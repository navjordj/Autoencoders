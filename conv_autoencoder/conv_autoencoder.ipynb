{
 "metadata": {
  "language_info": {
   "codemirror_mode": {
    "name": "ipython",
    "version": 3
   },
   "file_extension": ".py",
   "mimetype": "text/x-python",
   "name": "python",
   "nbconvert_exporter": "python",
   "pygments_lexer": "ipython3",
   "version": "3.8.3-final"
  },
  "orig_nbformat": 2,
  "kernelspec": {
   "name": "python38364bitnstconda4c99c261a06b4c149d45d756fedad9ad",
   "display_name": "Python 3.8.3 64-bit ('nst': conda)"
  }
 },
 "nbformat": 4,
 "nbformat_minor": 2,
 "cells": [
  {
   "cell_type": "code",
   "execution_count": 2,
   "metadata": {},
   "outputs": [],
   "source": [
    "from tensorflow import keras\n",
    "from tensorflow.keras import Model\n",
    "from tensorflow.keras.layers import Dense, Input, Conv2D, MaxPooling2D, UpSampling2D\n",
    "from tensorflow.keras.datasets import mnist\n",
    "\n",
    "import numpy as np \n",
    "import copy\n"
   ]
  },
  {
   "cell_type": "code",
   "execution_count": null,
   "metadata": {},
   "outputs": [],
   "source": [
    "\n",
    "def create_model(input_shape, latent_dim, activation=\"relu\"):\n",
    "\n",
    "    input = Input(shape=input_shape)\n",
    "\n",
    "    x = Conv2D(32, (3, 3), activation=activation, padding=\"same\")(input)\n",
    "    x = MaxPooling2D((2, 2), padding=\"same\")(x)\n",
    "    x = Conv2D(16, (3, 3), activation=activation, padding=\"same\")(x)\n",
    "    x = MaxPooling2D((2, 2), padding=\"same\")(x)\n",
    "    x = Conv2D(8, (3, 3), activation=activation, padding=\"same\")(x)\n",
    "    encoded = MaxPooling2D((2, 2), padding=\"same\")(x)\n",
    "    \n",
    "    x = Conv2D(8, (3, 3), activation=activation, padding=\"same\")(encoded)\n",
    "    x = UpSampling2D((2, 2))(x)\n",
    "    x = Conv2D(16, (3, 3), activation=activation, padding=\"same\")(x)\n",
    "    x = UpSampling2D((2, 2))(x)\n",
    "    x = Conv2D(32, (3, 3), activation=activation, padding=\"same\")(x)\n",
    "    x = UpSampling2D((2, 2))(x)\n",
    "    decoded = Conv2D(1, (3, 3), activation=\"sigmoid\", padding=\"same\")(x)\n",
    "\n",
    "\n",
    "\n"
   ]
  }
 ]
}